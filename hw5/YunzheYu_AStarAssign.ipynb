{
 "cells": [
  {
   "cell_type": "markdown",
   "metadata": {
    "id": "wQcsYUGrsAe2"
   },
   "source": [
    "# DS340 Assignment 1: A*, Heuristics, and the Fifteen Puzzle"
   ]
  },
  {
   "cell_type": "markdown",
   "metadata": {
    "id": "xY7Fg-Uxrebh"
   },
   "source": [
    "In this assignment, you’ll get some experience abstracting a problem into a search problem, implement the A* search algorithm, and experiment with the effects of using different heuristics for the search.  You'll hopefully see how solving a complex multistep problem from first principles is something classic AI is quite good at."
   ]
  },
  {
   "cell_type": "markdown",
   "metadata": {
    "id": "0LWl4duasqFw"
   },
   "source": [
    "You will only need to submit this completed .ipynb notebook to Blackboard, as well as a PDF version in case the .ipynb has a problem (Print->Save to PDF).  Despite the redundancy, please make sure you submit the most recent version of your notebook file."
   ]
  },
  {
   "cell_type": "markdown",
   "metadata": {
    "id": "CbmdWt8xtWPR"
   },
   "source": [
    "The goal of a fifteen puzzle is to get all fifteen tiles in order from left to right, top to bottom, like so:\n",
    "\n",
    "1 2 3 4\n",
    "\n",
    "5 6 7 8\n",
    "\n",
    "9 10 11 12\n",
    "\n",
    "13 14 15 -\n",
    "\n",
    "The only legal moves are to move a tile adjacent to the blank into the blank space, making the tile’s previous space blank. Thus the maximum number of neighbors is 4, but the number of neighbors could be as small as 2 if the blank is in a corner.\n",
    "\n",
    "**1, 4 points) If the blank is not counted as a tile, then tiles displaced is an admissible heuristic, because every tile must take at least one move to get to its final location.  Is a count of number of tiles out of place an admissible heuristic if the blank *is* counted as a tile? If the heuristic is admissible, explain how you know, and if it is not, give an example that shows the heuristic is inadmissible.**\n"
   ]
  },
  {
   "cell_type": "markdown",
   "metadata": {
    "id": "wuqscHWQtxoN"
   },
   "source": [
    "**TODO**\n",
    "\n",
    "Counting the number of tiles out of place, including the blank as a tile, is an admissible heuristic for the fifteen puzzle. This is because each tile that is not in its correct position, including the blank, must be moved at least once to reach the goal state. This heuristic is optimistic, as it assumes that each tile can be moved to its correct location without extra moves, and it never overestimates the number of moves required. Thus, it adheres to the criteria of an admissible heuristic by providing a lower bound on the number of moves needed to solve the puzzle."
   ]
  },
  {
   "cell_type": "markdown",
   "metadata": {
    "id": "gO9urgKOtTUi"
   },
   "source": [
    "Here is some provided code to get you started.  Notice the functions that are available to you."
   ]
  },
  {
   "cell_type": "code",
   "execution_count": 10,
   "metadata": {
    "id": "mND5ggjAgUrn"
   },
   "outputs": [],
   "source": [
    "\"\"\"Use A* to solve fifteen puzzle instances.\n",
    "\n",
    "The \"main\" of this code is solve_and_print, at the end.  We'll try two different\n",
    "heuristics, counting tiles out of place and summing Manhattan distance from\n",
    "the destination over all tiles (the better heuristic).\"\"\"\n",
    "\n",
    "import sys\n",
    "import copy\n",
    "import numpy as np\n",
    "from queue import PriorityQueue\n",
    "\n",
    "PUZZLE_WIDTH = 4\n",
    "BLANK = 0  # Integer comparison tends to be faster than string comparison\n",
    "\n",
    "def read_puzzle_string(puzzle_string):\n",
    "    \"\"\"Read a NumberPuzzle from string representation; space-delimited, blank is \"-\".\n",
    "\n",
    "    Args:\n",
    "      puzzle_string (string):  string representation of the puzzle\n",
    "\n",
    "    Returns:\n",
    "      A NumberPuzzle\n",
    "    \"\"\"\n",
    "    new_puzzle = NumberPuzzle()\n",
    "    row = 0\n",
    "    for line in puzzle_string.splitlines():\n",
    "        tokens = line.split()\n",
    "        for i in range(PUZZLE_WIDTH):\n",
    "            if tokens[i] == '-':\n",
    "                new_puzzle.tiles[row][i] = BLANK\n",
    "                new_puzzle.blank_r = row\n",
    "                new_puzzle.blank_c = i\n",
    "            else:\n",
    "                try:\n",
    "                    new_puzzle.tiles[row][i] = int(tokens[i])\n",
    "                except ValueError:\n",
    "                    sys.exit(\"Found unexpected non-integer for tile value\")\n",
    "        row += 1\n",
    "    return new_puzzle\n",
    "\n",
    "class NumberPuzzle(object):\n",
    "    \"\"\" Class containing the state of the puzzle, as well as A* bookkeeping info.\n",
    "\n",
    "    Attributes:\n",
    "        tiles (numpy array): 2D array of ints for tiles.\n",
    "        blank_r (int):  Row of the blank, for easy identification of neighbors\n",
    "        blank_c (int):  Column of blank, same reason\n",
    "        parent (NumberPuzzle):  Reference to previous puzzle, for backtracking later\n",
    "        dist_from_start (int):  Steps taken from start of puzzle to here\n",
    "        key (int or float):  Key for priority queue to determine which puzzle is next\n",
    "    \"\"\"\n",
    "\n",
    "    def __init__(self):\n",
    "        \"\"\" Just return zeros for everything and fill in the tile array later\"\"\"\n",
    "        self.tiles = np.zeros((PUZZLE_WIDTH, PUZZLE_WIDTH))\n",
    "        self.blank_r = 0\n",
    "        self.blank_c = 0\n",
    "        # This next field is for our convenience when generating a solution\n",
    "        # -- remember which puzzle was the move before\n",
    "        self.parent = None\n",
    "        self.dist_from_start = 0\n",
    "        self.key = 0\n",
    "\n",
    "    def __str__(self):\n",
    "        out = \"\"\n",
    "        for i in range(PUZZLE_WIDTH):\n",
    "            for j in range(PUZZLE_WIDTH):\n",
    "                if j > 0:\n",
    "                    out += \" \"\n",
    "                if self.tiles[i][j] == BLANK:\n",
    "                    out += \"-\"\n",
    "                else:\n",
    "                    out += str(int(self.tiles[i][j]))\n",
    "            out += \"\\n\"\n",
    "        return out\n",
    "\n",
    "    def copy(self):\n",
    "        \"\"\"Copy the puzzle and update the parent field.\n",
    "        \n",
    "        In A* search, we generally want to copy instead of destructively alter,\n",
    "        since we're not backtracking so much as jumping around the search tree.\n",
    "        Also, if A and B are numpy arrays, \"A = B\" only passes a reference to B.\n",
    "        We'll also use this to tell the child we're its parent.\"\"\"\n",
    "        child = NumberPuzzle()\n",
    "        child.tiles = np.copy(self.tiles)\n",
    "        child.blank_r = self.blank_r\n",
    "        child.blank_c = self.blank_c\n",
    "        # TODO:  set child.dist_from_start and child.parent\n",
    "        child.dist_from_start = self.dist_from_start  # Copy the distance\n",
    "        child.parent = self  # Set the parent to this puzzle\n",
    "        return child\n",
    "\n",
    "    def __eq__(self, other):\n",
    "        \"\"\"Governs behavior of ==.\n",
    "        \n",
    "        Overrides == for this object so that we can compare by tile arrangement\n",
    "        instead of reference.  This is going to be pretty common, so we'll skip\n",
    "        a type check on \"other\" for a modest speed increase\"\"\"\n",
    "        return np.array_equal(self.tiles, other.tiles)\n",
    "\n",
    "    def __hash__(self):\n",
    "        \"\"\"Generate a code for hash-based data structures.\n",
    "        \n",
    "        Hash function necessary for inclusion in a set -- unique \"name\"\n",
    "        for this object -- we'll just hash the bytes of the 2D array\"\"\"\n",
    "        return hash(bytes(self.tiles))\n",
    "\n",
    "    def __lt__(self, obj):\n",
    "        \"\"\"Governs behavior of <, and more importantly, the priority queue.\n",
    "        \n",
    "        Override less-than so that we can put these in a priority queue\n",
    "        with no problem.  We don't want to recompute the heuristic here,\n",
    "        though -- that would be too slow to do it every time we need to\n",
    "        reorganize the priority queue\"\"\"\n",
    "        return self.key < obj.key\n",
    "\n",
    "    def move(self, tile_row, tile_column):\n",
    "        \"\"\"Move from the row, column coordinates given into the blank.\n",
    "\n",
    "        Also very common, so we will also skip checks for legality to improve speed.\n",
    "\n",
    "        Args:\n",
    "            tile_row (int):  Row of the tile to move.\n",
    "            tile_column (int):  Column of the tile to move.\n",
    "        \"\"\"\n",
    "\n",
    "        self.tiles[self.blank_r][self.blank_c] = self.tiles[tile_row][tile_column]\n",
    "        self.tiles[tile_row][tile_column] = BLANK\n",
    "        self.blank_r = tile_row\n",
    "        self.blank_c = tile_column\n",
    "        # TODO:  Set self.dist_from_start to the right value, now that we've\n",
    "        # added a move\n",
    "        self.dist_from_start += 1  # Add this line to update the distance\n",
    "\n",
    "    def legal_moves(self):\n",
    "        \"\"\"Return a list of NumberPuzzle states that could result from one move.\n",
    "\n",
    "        Return a list of NumberPuzzle states that could result from one move\n",
    "        on the present board.  Use this to keep the order in which\n",
    "        moves are evaluated the same as our solution.  (Also notice we're still in the\n",
    "        methods of NumberPuzzle, hence the lack of arguments.)\n",
    "\n",
    "        Returns:\n",
    "            List of NumberPuzzles.\n",
    "        \"\"\"\n",
    "        legal = []\n",
    "        if self.blank_r > 0:\n",
    "            down_result = self.copy()\n",
    "            down_result.move(self.blank_r-1, self.blank_c)\n",
    "            legal.append(down_result)\n",
    "        if self.blank_c > 0:\n",
    "            right_result = self.copy()\n",
    "            right_result.move(self.blank_r, self.blank_c-1)\n",
    "            legal.append(right_result)\n",
    "        if self.blank_r < PUZZLE_WIDTH - 1:\n",
    "            up_result = self.copy()\n",
    "            up_result.move(self.blank_r+1, self.blank_c)\n",
    "            legal.append(up_result)\n",
    "        if self.blank_c < PUZZLE_WIDTH - 1:\n",
    "            left_result = self.copy()\n",
    "            left_result.move(self.blank_r, self.blank_c+1)\n",
    "            legal.append(left_result)\n",
    "        return legal\n",
    "\n",
    "    def solve(self, better_h):\n",
    "        \"\"\"Return a list of puzzle states from this state to solved.\n",
    "\n",
    "        Args:\n",
    "            better_h (boolean):  True if Manhattan heuristic, false if tile counting\n",
    "\n",
    "        Returns:\n",
    "            path (list of NumberPuzzle or None) - path from start state to finish state\n",
    "            explored - total number of nodes pulled from the priority queue\n",
    "        \"\"\"\n",
    "        # TODO\n",
    "        open_set = PriorityQueue()\n",
    "        closed_set = set()\n",
    "        self.key = self.heuristic(better_h)\n",
    "        open_set.put((self.key, self))\n",
    "\n",
    "        while not open_set.empty():\n",
    "            _, current = open_set.get()\n",
    "            if current.solved():\n",
    "                return current.path_to_here(), len(closed_set)\n",
    "\n",
    "            closed_set.add(current)\n",
    "\n",
    "            for neighbor in current.legal_moves():\n",
    "                if neighbor in closed_set:\n",
    "                    continue\n",
    "\n",
    "                tentative_g_score = current.dist_from_start + 1\n",
    "\n",
    "                if tentative_g_score < neighbor.dist_from_start or neighbor not in [item[1] for item in open_set.queue]:\n",
    "                    neighbor.parent = current\n",
    "                    neighbor.dist_from_start = tentative_g_score\n",
    "                    neighbor.key = tentative_g_score + neighbor.heuristic(better_h)\n",
    "\n",
    "                    open_set.put((neighbor.key, neighbor))\n",
    "\n",
    "        return None, len(closed_set)\n",
    "\n",
    "    def solved(self):\n",
    "        \"\"\"\"Return True iff all tiles in order and blank in bottom right.\"\"\"\n",
    "        should_be = 1\n",
    "        for i in range(PUZZLE_WIDTH):\n",
    "            for j in range(PUZZLE_WIDTH):\n",
    "                if self.tiles[i][j] != should_be:\n",
    "                    return False\n",
    "                should_be = (should_be + 1) % (PUZZLE_WIDTH ** 2)\n",
    "        return True\n",
    "\n",
    "    def heuristic(self, better_h):\n",
    "        \"\"\"Wrapper for the two heuristic functions.\n",
    "\n",
    "        Args:\n",
    "            better_h (boolean):  True if Manhattan heuristic, false if tile counting\n",
    "\n",
    "        Returns:\n",
    "            Value of the cost-to-go heuristic (int or float)\n",
    "        \"\"\"\n",
    "        if better_h:\n",
    "            return self.manhattan_heuristic()\n",
    "        return self.tile_mismatch_heuristic()\n",
    "\n",
    "    def tile_mismatch_heuristic(self):\n",
    "        \"\"\"Returns count of tiles out of place.\"\"\"\n",
    "        # TODO\n",
    "        mismatch_count = 0\n",
    "        for i in range(PUZZLE_WIDTH):\n",
    "            for j in range(PUZZLE_WIDTH):\n",
    "                # Ignore the blank tile for mismatch count\n",
    "                if self.tiles[i][j] != 0 and self.tiles[i][j] != i * PUZZLE_WIDTH + j + 1:\n",
    "                    mismatch_count += 1\n",
    "        return mismatch_count\n",
    "\n",
    "    def manhattan_heuristic(self):\n",
    "        \"\"\"Returns total Manhattan (city block) distance from destination over all tiles.\"\"\"\n",
    "        # TODO\n",
    "        total_manhattan = 0\n",
    "        for i in range(PUZZLE_WIDTH):\n",
    "            for j in range(PUZZLE_WIDTH):\n",
    "                tile = self.tiles[i][j]\n",
    "                if tile != BLANK:\n",
    "                    goal_row, goal_col = divmod(tile - 1, PUZZLE_WIDTH)\n",
    "                    total_manhattan += abs(goal_row - i) + abs(goal_col - j)\n",
    "        return total_manhattan\n",
    "        \n",
    "\n",
    "    def path_to_here(self):\n",
    "        \"\"\"Returns list of NumberPuzzles giving the move sequence to get here.\n",
    "        \n",
    "        Retraces steps to this node through the parent fields.\"\"\"\n",
    "        path = []\n",
    "        current = self\n",
    "        while not current is None:\n",
    "            path.insert(0, current)  # push\n",
    "            current = current.parent\n",
    "        return path\n",
    "\n",
    "def print_steps(path):\n",
    "    \"\"\" Print every puzzle in the path.\n",
    "\n",
    "    Args:\n",
    "        path (list of NumberPuzzle): list of puzzle states from start to finish\n",
    "    \"\"\"\n",
    "    if path is None:\n",
    "        print(\"No path found\")\n",
    "    else:\n",
    "        print(\"{} steps\".format(len(path)-1))\n",
    "        for state in path:\n",
    "            print(state)\n",
    "\n",
    "\n",
    "def solve_and_print(puzzle_string : str, better_h : bool) -> None:\n",
    "  \"\"\" \"Main\" - prints series of moves necessary to solve puzzle.\n",
    "\n",
    "  Args:\n",
    "    puzzle_string (string):  The puzzle to solve.\n",
    "    better_h (boolean):  True if Manhattan distance heuristic, false if tile count\n",
    "  \"\"\"\n",
    "  my_puzzle = read_puzzle_string(puzzle_string)\n",
    "  solution_steps, explored = my_puzzle.solve(better_h)\n",
    "  print(\"{} nodes explored\".format(explored))\n",
    "  print_steps(solution_steps)"
   ]
  },
  {
   "cell_type": "markdown",
   "metadata": {},
   "source": [
    "**2, 4 points)** Two of the provided functions for generating new board states have been left incomplete for you to finish.  copy() needs to set the dist_from_start and parent attributes appropriately - in particular, parent needs to be set to the state being copied so that path_to_here() can later backtrack through move sequences.  move() needs update dist_from_start to reflect the fact that a new move has been made.  Update both of these functions before proceeding."
   ]
  },
  {
   "cell_type": "markdown",
   "metadata": {
    "id": "Kd84CkYIrJBA"
   },
   "source": [
    "**3, 22 points)  In solve(), implement A***, using a heuristic of “number of tiles in the wrong place” as the optimistic estimate of moves to go. (Treat the blank the way you decided was better in question 1.)  Then you will need to make use of two important data structures:\n",
    "\n",
    "• The queue of puzzle states to explore should be a PriorityQueue, already imported for you at the top. The \\_\\_lt\\_\\_() function for NumberPuzzle objects has already been overridden so that it compares the key field to decide what goes first, but that field is currently never initialized.\n",
    "\n",
    "• Use a set() to efficiently implement a \"closed list\" of states that have already been explored. (Do not literally use a list, since scanning a list for an item is not efficient.) Sets are hash tables, and the hashing behavior has already been implemented to work in an acceptable way.\n",
    "\n",
    "solve() should return a list of NumberPuzzles that show the states from the beginning to the end, as well as an integer count of the number of nodes explored (pulled from the front of the priority queue).  The latter is to help you debug and help us grade, although there is some \"wiggle room\" for reasonable differences in implementation.\n",
    "\n",
    "Note that you may be penalized if you unnecessarily change the provided code. In particular, you must generate neighbors using the provided legal_moves() function, so that your output should match our own if the heuristics are implemented correctly."
   ]
  },
  {
   "cell_type": "markdown",
   "metadata": {
    "id": "0xnu6d3jrAqF"
   },
   "source": [
    "When you have an implementation, try your solution on the provided zero_moves, one_move, and six_moves puzzles using solve_and_print(), and check that they are solved in the required number of moves."
   ]
  },
  {
   "cell_type": "code",
   "execution_count": 2,
   "metadata": {
    "id": "A4XBKObXohi6"
   },
   "outputs": [],
   "source": [
    "zero_moves = \"\"\"1 2 3 4\n",
    "5 6 7 8\n",
    "9 10 11 12\n",
    "13 14 15 -\"\"\"\n",
    "\n",
    "one_move = \"\"\"1 2 3 4\n",
    "5 6 7 8\n",
    "9 10 11 12\n",
    "13 14 - 15\"\"\"\n",
    "\n",
    "six_moves = \"\"\"1 2 3 4\n",
    "5 10 6 8\n",
    "- 9 7 12\n",
    "13 14 11 15\"\"\"\n",
    "\n",
    "sixteen_moves = \"\"\"10 2 4 8\n",
    "1 5 3 -\n",
    "9 7 6 12\n",
    "13 14 11 15\"\"\"\n",
    "\n",
    "forty_moves = \"\"\"4 3 - 11\n",
    "2 1 6 8\n",
    "13 9 7 15\n",
    "10 14 12 5\"\"\"\n",
    "\n"
   ]
  },
  {
   "cell_type": "code",
   "execution_count": 11,
   "metadata": {
    "id": "gJ2Tgs24oqz1"
   },
   "outputs": [
    {
     "name": "stdout",
     "output_type": "stream",
     "text": [
      "0 nodes explored\n",
      "0 steps\n",
      "1 2 3 4\n",
      "5 6 7 8\n",
      "9 10 11 12\n",
      "13 14 15 -\n",
      "\n"
     ]
    }
   ],
   "source": [
    "solve_and_print(zero_moves, False)"
   ]
  },
  {
   "cell_type": "code",
   "execution_count": 12,
   "metadata": {
    "id": "zYdtDENIvGhV"
   },
   "outputs": [
    {
     "name": "stdout",
     "output_type": "stream",
     "text": [
      "1 nodes explored\n",
      "1 steps\n",
      "1 2 3 4\n",
      "5 6 7 8\n",
      "9 10 11 12\n",
      "13 14 - 15\n",
      "\n",
      "1 2 3 4\n",
      "5 6 7 8\n",
      "9 10 11 12\n",
      "13 14 15 -\n",
      "\n"
     ]
    }
   ],
   "source": [
    "solve_and_print(one_move, False)"
   ]
  },
  {
   "cell_type": "code",
   "execution_count": 13,
   "metadata": {
    "id": "ELZ1rnw7vMky"
   },
   "outputs": [
    {
     "name": "stdout",
     "output_type": "stream",
     "text": [
      "6 nodes explored\n",
      "6 steps\n",
      "1 2 3 4\n",
      "5 10 6 8\n",
      "- 9 7 12\n",
      "13 14 11 15\n",
      "\n",
      "1 2 3 4\n",
      "5 10 6 8\n",
      "9 - 7 12\n",
      "13 14 11 15\n",
      "\n",
      "1 2 3 4\n",
      "5 - 6 8\n",
      "9 10 7 12\n",
      "13 14 11 15\n",
      "\n",
      "1 2 3 4\n",
      "5 6 - 8\n",
      "9 10 7 12\n",
      "13 14 11 15\n",
      "\n",
      "1 2 3 4\n",
      "5 6 7 8\n",
      "9 10 - 12\n",
      "13 14 11 15\n",
      "\n",
      "1 2 3 4\n",
      "5 6 7 8\n",
      "9 10 11 12\n",
      "13 14 - 15\n",
      "\n",
      "1 2 3 4\n",
      "5 6 7 8\n",
      "9 10 11 12\n",
      "13 14 15 -\n",
      "\n"
     ]
    }
   ],
   "source": [
    "solve_and_print(six_moves, False)"
   ]
  },
  {
   "cell_type": "markdown",
   "metadata": {
    "id": "oUItsnVLvcdT"
   },
   "source": [
    "**4, 1 point) Now time your implementation on sixteen_moves**, using the handy Google Colab syntax demonstrated here."
   ]
  },
  {
   "cell_type": "code",
   "execution_count": 14,
   "metadata": {
    "id": "UpkPlcv_va_T"
   },
   "outputs": [
    {
     "name": "stdout",
     "output_type": "stream",
     "text": [
      "337 nodes explored\n",
      "16 steps\n",
      "10 2 4 8\n",
      "1 5 3 -\n",
      "9 7 6 12\n",
      "13 14 11 15\n",
      "\n",
      "10 2 4 -\n",
      "1 5 3 8\n",
      "9 7 6 12\n",
      "13 14 11 15\n",
      "\n",
      "10 2 - 4\n",
      "1 5 3 8\n",
      "9 7 6 12\n",
      "13 14 11 15\n",
      "\n",
      "10 - 2 4\n",
      "1 5 3 8\n",
      "9 7 6 12\n",
      "13 14 11 15\n",
      "\n",
      "- 10 2 4\n",
      "1 5 3 8\n",
      "9 7 6 12\n",
      "13 14 11 15\n",
      "\n",
      "1 10 2 4\n",
      "- 5 3 8\n",
      "9 7 6 12\n",
      "13 14 11 15\n",
      "\n",
      "1 10 2 4\n",
      "5 - 3 8\n",
      "9 7 6 12\n",
      "13 14 11 15\n",
      "\n",
      "1 - 2 4\n",
      "5 10 3 8\n",
      "9 7 6 12\n",
      "13 14 11 15\n",
      "\n",
      "1 2 - 4\n",
      "5 10 3 8\n",
      "9 7 6 12\n",
      "13 14 11 15\n",
      "\n",
      "1 2 3 4\n",
      "5 10 - 8\n",
      "9 7 6 12\n",
      "13 14 11 15\n",
      "\n",
      "1 2 3 4\n",
      "5 10 6 8\n",
      "9 7 - 12\n",
      "13 14 11 15\n",
      "\n",
      "1 2 3 4\n",
      "5 10 6 8\n",
      "9 - 7 12\n",
      "13 14 11 15\n",
      "\n",
      "1 2 3 4\n",
      "5 - 6 8\n",
      "9 10 7 12\n",
      "13 14 11 15\n",
      "\n",
      "1 2 3 4\n",
      "5 6 - 8\n",
      "9 10 7 12\n",
      "13 14 11 15\n",
      "\n",
      "1 2 3 4\n",
      "5 6 7 8\n",
      "9 10 - 12\n",
      "13 14 11 15\n",
      "\n",
      "1 2 3 4\n",
      "5 6 7 8\n",
      "9 10 11 12\n",
      "13 14 - 15\n",
      "\n",
      "1 2 3 4\n",
      "5 6 7 8\n",
      "9 10 11 12\n",
      "13 14 15 -\n",
      "\n",
      "CPU times: user 215 ms, sys: 6.76 ms, total: 222 ms\n",
      "Wall time: 220 ms\n"
     ]
    }
   ],
   "source": [
    "%time solve_and_print(sixteen_moves, False)"
   ]
  },
  {
   "cell_type": "markdown",
   "metadata": {
    "id": "4PcHJokJxG1o"
   },
   "source": [
    "**5, 6 points) The Manhattan distance of a tile from its final location is the sum of the difference in rows and the difference in columns. If the blank does not count as a tile, does the sum of Manhattan distances from their final locations over all tiles act as an admissible heuristic? What if the blank does count as a tile? In each case, if the heuristic is admissible, explain how you know, and if it is not, give an example that shows the heuristic is inadmissible.**"
   ]
  },
  {
   "cell_type": "markdown",
   "metadata": {
    "id": "eqXdQR3oxNo3"
   },
   "source": [
    "**TODO**\n",
    "\n",
    "The sum of Manhattan distances of all tiles from their final locations, with or without counting the blank as a tile, is an admissible heuristic for the fifteen puzzle. This heuristic is optimistic and never overestimates the actual number of moves required to solve the puzzle because:\n",
    "\n",
    "Without Counting the Blank: Each tile's Manhattan distance represents the minimum moves needed to reach its correct position, assuming direct movement without obstacles. Since the heuristic sums these minimum distances, it provides a lower bound on the total moves needed, making it admissible.\n",
    "\n",
    "With Counting the Blank: Including the blank space in the calculation does not change the admissibility. Moving the blank is necessary for puzzle resolution, akin to moving any other tile. The heuristic still underestimates or exactly estimates the moves required, never overestimating.\n",
    "\n",
    "In both cases, the sum of Manhattan distances is a lower bound on the actual cost to solve the puzzle, hence admissible."
   ]
  },
  {
   "cell_type": "markdown",
   "metadata": {
    "id": "6TOyRX9OxUz2"
   },
   "source": [
    "**6, 10 points)** Now **implement Manhattan distance as a new heuristic** in the same block of code above.  Keep your old heuristic, but have the code use the old heuristic if the better_h argument is False, and use the new heuristic if better_h is True.  When you are done, **time the new code** on the sixteen move puzzle."
   ]
  },
  {
   "cell_type": "code",
   "execution_count": 15,
   "metadata": {
    "id": "eYforT9Ix3CV"
   },
   "outputs": [
    {
     "name": "stdout",
     "output_type": "stream",
     "text": [
      "49 nodes explored\n",
      "16 steps\n",
      "10 2 4 8\n",
      "1 5 3 -\n",
      "9 7 6 12\n",
      "13 14 11 15\n",
      "\n",
      "10 2 4 -\n",
      "1 5 3 8\n",
      "9 7 6 12\n",
      "13 14 11 15\n",
      "\n",
      "10 2 - 4\n",
      "1 5 3 8\n",
      "9 7 6 12\n",
      "13 14 11 15\n",
      "\n",
      "10 - 2 4\n",
      "1 5 3 8\n",
      "9 7 6 12\n",
      "13 14 11 15\n",
      "\n",
      "- 10 2 4\n",
      "1 5 3 8\n",
      "9 7 6 12\n",
      "13 14 11 15\n",
      "\n",
      "1 10 2 4\n",
      "- 5 3 8\n",
      "9 7 6 12\n",
      "13 14 11 15\n",
      "\n",
      "1 10 2 4\n",
      "5 - 3 8\n",
      "9 7 6 12\n",
      "13 14 11 15\n",
      "\n",
      "1 - 2 4\n",
      "5 10 3 8\n",
      "9 7 6 12\n",
      "13 14 11 15\n",
      "\n",
      "1 2 - 4\n",
      "5 10 3 8\n",
      "9 7 6 12\n",
      "13 14 11 15\n",
      "\n",
      "1 2 3 4\n",
      "5 10 - 8\n",
      "9 7 6 12\n",
      "13 14 11 15\n",
      "\n",
      "1 2 3 4\n",
      "5 10 6 8\n",
      "9 7 - 12\n",
      "13 14 11 15\n",
      "\n",
      "1 2 3 4\n",
      "5 10 6 8\n",
      "9 - 7 12\n",
      "13 14 11 15\n",
      "\n",
      "1 2 3 4\n",
      "5 - 6 8\n",
      "9 10 7 12\n",
      "13 14 11 15\n",
      "\n",
      "1 2 3 4\n",
      "5 6 - 8\n",
      "9 10 7 12\n",
      "13 14 11 15\n",
      "\n",
      "1 2 3 4\n",
      "5 6 7 8\n",
      "9 10 - 12\n",
      "13 14 11 15\n",
      "\n",
      "1 2 3 4\n",
      "5 6 7 8\n",
      "9 10 11 12\n",
      "13 14 - 15\n",
      "\n",
      "1 2 3 4\n",
      "5 6 7 8\n",
      "9 10 11 12\n",
      "13 14 15 -\n",
      "\n",
      "CPU times: user 13.4 ms, sys: 1.71 ms, total: 15.1 ms\n",
      "Wall time: 14.2 ms\n"
     ]
    }
   ],
   "source": [
    "%time solve_and_print(sixteen_moves, True)"
   ]
  },
  {
   "cell_type": "markdown",
   "metadata": {
    "id": "F5i7QBpKyPtB"
   },
   "source": [
    "**7, 1 point)** Your code should now also finish within two minutes for forty_moves.  **Run it here** to demonstrate."
   ]
  },
  {
   "cell_type": "code",
   "execution_count": 16,
   "metadata": {
    "id": "LsA6Y3XoyfGu"
   },
   "outputs": [
    {
     "ename": "KeyboardInterrupt",
     "evalue": "",
     "output_type": "error",
     "traceback": [
      "\u001b[0;31m---------------------------------------------------------------------------\u001b[0m",
      "\u001b[0;31mKeyboardInterrupt\u001b[0m                         Traceback (most recent call last)",
      "File \u001b[0;32m<timed eval>:1\u001b[0m\n",
      "Cell \u001b[0;32mIn[10], line 283\u001b[0m, in \u001b[0;36msolve_and_print\u001b[0;34m(puzzle_string, better_h)\u001b[0m\n\u001b[1;32m    276\u001b[0m \u001b[38;5;250m\u001b[39m\u001b[38;5;124;03m\"\"\" \"Main\" - prints series of moves necessary to solve puzzle.\u001b[39;00m\n\u001b[1;32m    277\u001b[0m \n\u001b[1;32m    278\u001b[0m \u001b[38;5;124;03mArgs:\u001b[39;00m\n\u001b[1;32m    279\u001b[0m \u001b[38;5;124;03m  puzzle_string (string):  The puzzle to solve.\u001b[39;00m\n\u001b[1;32m    280\u001b[0m \u001b[38;5;124;03m  better_h (boolean):  True if Manhattan distance heuristic, false if tile count\u001b[39;00m\n\u001b[1;32m    281\u001b[0m \u001b[38;5;124;03m\"\"\"\u001b[39;00m\n\u001b[1;32m    282\u001b[0m my_puzzle \u001b[38;5;241m=\u001b[39m read_puzzle_string(puzzle_string)\n\u001b[0;32m--> 283\u001b[0m solution_steps, explored \u001b[38;5;241m=\u001b[39m \u001b[43mmy_puzzle\u001b[49m\u001b[38;5;241;43m.\u001b[39;49m\u001b[43msolve\u001b[49m\u001b[43m(\u001b[49m\u001b[43mbetter_h\u001b[49m\u001b[43m)\u001b[49m\n\u001b[1;32m    284\u001b[0m \u001b[38;5;28mprint\u001b[39m(\u001b[38;5;124m\"\u001b[39m\u001b[38;5;132;01m{}\u001b[39;00m\u001b[38;5;124m nodes explored\u001b[39m\u001b[38;5;124m\"\u001b[39m\u001b[38;5;241m.\u001b[39mformat(explored))\n\u001b[1;32m    285\u001b[0m print_steps(solution_steps)\n",
      "Cell \u001b[0;32mIn[10], line 194\u001b[0m, in \u001b[0;36mNumberPuzzle.solve\u001b[0;34m(self, better_h)\u001b[0m\n\u001b[1;32m    190\u001b[0m     \u001b[38;5;28;01mcontinue\u001b[39;00m\n\u001b[1;32m    192\u001b[0m tentative_g_score \u001b[38;5;241m=\u001b[39m current\u001b[38;5;241m.\u001b[39mdist_from_start \u001b[38;5;241m+\u001b[39m \u001b[38;5;241m1\u001b[39m\n\u001b[0;32m--> 194\u001b[0m \u001b[38;5;28;01mif\u001b[39;00m tentative_g_score \u001b[38;5;241m<\u001b[39m neighbor\u001b[38;5;241m.\u001b[39mdist_from_start \u001b[38;5;129;01mor\u001b[39;00m \u001b[43mneighbor\u001b[49m\u001b[43m \u001b[49m\u001b[38;5;129;43;01mnot\u001b[39;49;00m\u001b[43m \u001b[49m\u001b[38;5;129;43;01min\u001b[39;49;00m\u001b[43m \u001b[49m\u001b[43m[\u001b[49m\u001b[43mitem\u001b[49m\u001b[43m[\u001b[49m\u001b[38;5;241;43m1\u001b[39;49m\u001b[43m]\u001b[49m\u001b[43m \u001b[49m\u001b[38;5;28;43;01mfor\u001b[39;49;00m\u001b[43m \u001b[49m\u001b[43mitem\u001b[49m\u001b[43m \u001b[49m\u001b[38;5;129;43;01min\u001b[39;49;00m\u001b[43m \u001b[49m\u001b[43mopen_set\u001b[49m\u001b[38;5;241;43m.\u001b[39;49m\u001b[43mqueue\u001b[49m\u001b[43m]\u001b[49m:\n\u001b[1;32m    195\u001b[0m     neighbor\u001b[38;5;241m.\u001b[39mparent \u001b[38;5;241m=\u001b[39m current\n\u001b[1;32m    196\u001b[0m     neighbor\u001b[38;5;241m.\u001b[39mdist_from_start \u001b[38;5;241m=\u001b[39m tentative_g_score\n",
      "Cell \u001b[0;32mIn[10], line 99\u001b[0m, in \u001b[0;36mNumberPuzzle.__eq__\u001b[0;34m(self, other)\u001b[0m\n\u001b[1;32m     93\u001b[0m \u001b[38;5;28;01mdef\u001b[39;00m \u001b[38;5;21m__eq__\u001b[39m(\u001b[38;5;28mself\u001b[39m, other):\n\u001b[1;32m     94\u001b[0m \u001b[38;5;250m    \u001b[39m\u001b[38;5;124;03m\"\"\"Governs behavior of ==.\u001b[39;00m\n\u001b[1;32m     95\u001b[0m \u001b[38;5;124;03m    \u001b[39;00m\n\u001b[1;32m     96\u001b[0m \u001b[38;5;124;03m    Overrides == for this object so that we can compare by tile arrangement\u001b[39;00m\n\u001b[1;32m     97\u001b[0m \u001b[38;5;124;03m    instead of reference.  This is going to be pretty common, so we'll skip\u001b[39;00m\n\u001b[1;32m     98\u001b[0m \u001b[38;5;124;03m    a type check on \"other\" for a modest speed increase\"\"\"\u001b[39;00m\n\u001b[0;32m---> 99\u001b[0m     \u001b[38;5;28;01mreturn\u001b[39;00m \u001b[43mnp\u001b[49m\u001b[38;5;241;43m.\u001b[39;49m\u001b[43marray_equal\u001b[49m\u001b[43m(\u001b[49m\u001b[38;5;28;43mself\u001b[39;49m\u001b[38;5;241;43m.\u001b[39;49m\u001b[43mtiles\u001b[49m\u001b[43m,\u001b[49m\u001b[43m \u001b[49m\u001b[43mother\u001b[49m\u001b[38;5;241;43m.\u001b[39;49m\u001b[43mtiles\u001b[49m\u001b[43m)\u001b[49m\n",
      "File \u001b[0;32m<__array_function__ internals>:200\u001b[0m, in \u001b[0;36marray_equal\u001b[0;34m(*args, **kwargs)\u001b[0m\n",
      "File \u001b[0;32m/Library/Frameworks/Python.framework/Versions/3.11/lib/python3.11/site-packages/numpy/core/numeric.py:2468\u001b[0m, in \u001b[0;36marray_equal\u001b[0;34m(a1, a2, equal_nan)\u001b[0m\n\u001b[1;32m   2466\u001b[0m     \u001b[38;5;28;01mreturn\u001b[39;00m \u001b[38;5;28;01mFalse\u001b[39;00m\n\u001b[1;32m   2467\u001b[0m \u001b[38;5;28;01mif\u001b[39;00m \u001b[38;5;129;01mnot\u001b[39;00m equal_nan:\n\u001b[0;32m-> 2468\u001b[0m     \u001b[38;5;28;01mreturn\u001b[39;00m \u001b[38;5;28mbool\u001b[39m(\u001b[43masarray\u001b[49m\u001b[43m(\u001b[49m\u001b[43ma1\u001b[49m\u001b[43m \u001b[49m\u001b[38;5;241;43m==\u001b[39;49m\u001b[43m \u001b[49m\u001b[43ma2\u001b[49m\u001b[43m)\u001b[49m\u001b[38;5;241;43m.\u001b[39;49m\u001b[43mall\u001b[49m\u001b[43m(\u001b[49m\u001b[43m)\u001b[49m)\n\u001b[1;32m   2469\u001b[0m \u001b[38;5;66;03m# Handling NaN values if equal_nan is True\u001b[39;00m\n\u001b[1;32m   2470\u001b[0m a1nan, a2nan \u001b[38;5;241m=\u001b[39m isnan(a1), isnan(a2)\n",
      "File \u001b[0;32m/Library/Frameworks/Python.framework/Versions/3.11/lib/python3.11/site-packages/numpy/core/_methods.py:64\u001b[0m, in \u001b[0;36m_all\u001b[0;34m(a, axis, dtype, out, keepdims, where)\u001b[0m\n\u001b[1;32m     61\u001b[0m \u001b[38;5;28;01mdef\u001b[39;00m \u001b[38;5;21m_all\u001b[39m(a, axis\u001b[38;5;241m=\u001b[39m\u001b[38;5;28;01mNone\u001b[39;00m, dtype\u001b[38;5;241m=\u001b[39m\u001b[38;5;28;01mNone\u001b[39;00m, out\u001b[38;5;241m=\u001b[39m\u001b[38;5;28;01mNone\u001b[39;00m, keepdims\u001b[38;5;241m=\u001b[39m\u001b[38;5;28;01mFalse\u001b[39;00m, \u001b[38;5;241m*\u001b[39m, where\u001b[38;5;241m=\u001b[39m\u001b[38;5;28;01mTrue\u001b[39;00m):\n\u001b[1;32m     62\u001b[0m     \u001b[38;5;66;03m# Parsing keyword arguments is currently fairly slow, so avoid it for now\u001b[39;00m\n\u001b[1;32m     63\u001b[0m     \u001b[38;5;28;01mif\u001b[39;00m where \u001b[38;5;129;01mis\u001b[39;00m \u001b[38;5;28;01mTrue\u001b[39;00m:\n\u001b[0;32m---> 64\u001b[0m         \u001b[38;5;28;01mreturn\u001b[39;00m umr_all(a, axis, dtype, out, keepdims)\n\u001b[1;32m     65\u001b[0m     \u001b[38;5;28;01mreturn\u001b[39;00m umr_all(a, axis, dtype, out, keepdims, where\u001b[38;5;241m=\u001b[39mwhere)\n",
      "\u001b[0;31mKeyboardInterrupt\u001b[0m: "
     ]
    }
   ],
   "source": [
    "%time solve_and_print(forty_moves, True)"
   ]
  },
  {
   "cell_type": "markdown",
   "metadata": {
    "id": "GsA_O7Iny7TC"
   },
   "source": [
    "**8, 4 points)** Suppose you decide to try out Euclidean distance, $\\sqrt{r^2 + c^2}$ where r and c are the row and column differences, as a heuristic.  **It runs faster than tiles displaced, but slower than Manhattan distance.  Why?**  (Assume it's not the slowness of square root operations, or anything like that.)"
   ]
  },
  {
   "cell_type": "markdown",
   "metadata": {
    "id": "LK3KnxEwzP68"
   },
   "source": [
    "**TODO**\n",
    "\n",
    "The Euclidean distance heuristic runs faster than the tile displacement heuristic but slower than the Manhattan distance heuristic due to its level of estimation accuracy regarding the actual moves needed in the fifteen puzzle. The Manhattan distance directly correlates with the puzzle's movement rules, accurately reflecting the minimum moves needed since only vertical or horizontal movements are allowed. In contrast, the Euclidean distance, which measures the straight-line distance, implies the possibility of diagonal movement. This makes it a less accurate estimate for the puzzle because it slightly underestimates the true cost compared to Manhattan distance, leading to a broader exploration of the state space. Thus, while Euclidean distance provides a better estimate than simply counting misplaced tiles, it doesn't match the efficiency of the Manhattan distance, which more tightly conforms to the puzzle's constraints."
   ]
  },
  {
   "cell_type": "markdown",
   "metadata": {
    "id": "sQeAdTVfzVhO"
   },
   "source": [
    "**9, 4 points)** Suppose a bug caused you to calculate the Manhattan distance incorrectly, so that it only returned the number of rows away for each tile, ignoring columns.  **Is this heuristic still going to return an optimal solution every time?  Why or why not?**"
   ]
  },
  {
   "cell_type": "markdown",
   "metadata": {
    "id": "GzdIch4l0Obt"
   },
   "source": [
    "**TODO** \n",
    "\n",
    "Yes, the heuristic that calculates only the number of rows away for each tile, ignoring columns, would still return an optimal solution every time, though it may not do so as efficiently as the correct Manhattan distance. This is because the heuristic remains admissible—it never overestimates the actual minimum cost to reach the goal. Since it considers only the row differences, it underestimates or exactly estimates the distance a tile needs to travel, without ever suggesting a lower-than-actual cost to get all tiles to their target positions.\n",
    "\n",
    "Admissibility ensures that A* search will find an optimal solution because the search algorithm will continue to explore paths until it confirms that the shortest path to the goal has been found. However, because this heuristic provides a looser estimate of the true cost (by ignoring column distances), it might lead to a broader search space than necessary, as it does not guide the search as effectively towards the goal state as the full Manhattan distance would. The search might explore more states than it would with a tighter heuristic because it does not fully account for the actual costs associated with moving tiles horizontally."
   ]
  },
  {
   "cell_type": "markdown",
   "metadata": {
    "id": "Z5pgJIhsSqNA"
   },
   "source": [
    "**10, 4 points)** In some fifteen-puzzle implementations, you can slide not just one tile, but all tiles to one side of the blank into the blank space.  (For example, if the bottom row were - 13 14 15, one move could cause 13 14 15 -.) **Are the tiles displaced and Manhattan distance heuristics admissible in that case?**"
   ]
  },
  {
   "cell_type": "markdown",
   "metadata": {
    "id": "3mPKoQXITNI2"
   },
   "source": [
    "**TODO**\n",
    "\n",
    "With the rule change allowing multiple tiles to slide into the blank space in one move, both the tiles displaced and Manhattan distance heuristics become inadmissible. This is because both heuristics can overestimate the number of moves required to solve the puzzle given the new movement capabilities. They do not account for the possibility of moving several tiles closer to their target positions simultaneously, thus violating the admissibility criterion that a heuristic must never overestimate the cost to reach the goal."
   ]
  },
  {
   "cell_type": "markdown",
   "metadata": {
    "id": "HVqDc-Pm0bz7"
   },
   "source": [
    "A* is one of the most successful algorithms in the history of AI, a champ at what it does (as long as you can come up with a good heuristic), and is still used extensively in games. It's a classic technique for a reason!"
   ]
  },
  {
   "cell_type": "markdown",
   "metadata": {
    "id": "D5XIUfl50hNY"
   },
   "source": [
    "**Be sure you've done all other bold text, then \"File->Download .ipynb\" and upload your .ipynb file to Blackboard, along with a PDF version (File->Print->Save as PDF) of your assignment.**"
   ]
  }
 ],
 "metadata": {
  "colab": {
   "collapsed_sections": [],
   "name": "YourName_AStarAssign.ipynb",
   "provenance": []
  },
  "kernelspec": {
   "display_name": "Python 3",
   "language": "python",
   "name": "python3"
  },
  "language_info": {
   "codemirror_mode": {
    "name": "ipython",
    "version": 3
   },
   "file_extension": ".py",
   "mimetype": "text/x-python",
   "name": "python",
   "nbconvert_exporter": "python",
   "pygments_lexer": "ipython3",
   "version": "3.11.1"
  }
 },
 "nbformat": 4,
 "nbformat_minor": 1
}
